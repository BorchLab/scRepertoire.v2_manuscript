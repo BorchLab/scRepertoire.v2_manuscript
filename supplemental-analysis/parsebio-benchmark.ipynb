{
 "cells": [
  {
   "cell_type": "code",
   "execution_count": null,
   "metadata": {
    "vscode": {
     "languageId": "r"
    }
   },
   "outputs": [],
   "source": [
    "# load a data.frame named `parseTCR` into the environment\n",
    "load(\"../inputs/supplemental/parseTCR_human_1million.rda\")"
   ]
  },
  {
   "cell_type": "code",
   "execution_count": 6,
   "metadata": {
    "vscode": {
     "languageId": "r"
    }
   },
   "outputs": [
    {
     "name": "stdout",
     "output_type": "stream",
     "text": [
      "[1] 1307803      37\n"
     ]
    },
    {
     "data": {
      "text/html": [
       "<table class=\"dataframe\">\n",
       "<caption>A data.frame: 6 × 37</caption>\n",
       "<thead>\n",
       "\t<tr><th></th><th scope=col>Barcode</th><th scope=col>TRA_V</th><th scope=col>TRA_D</th><th scope=col>TRA_J</th><th scope=col>TRA_C</th><th scope=col>TRA_cdr3_aa</th><th scope=col>TRA_read_count</th><th scope=col>TRA_transcript_count</th><th scope=col>TRB_V</th><th scope=col>TRB_D</th><th scope=col>⋯</th><th scope=col>secondary_TRB_read_count</th><th scope=col>secondary_TRB_transcript_count</th><th scope=col>isMultiplet</th><th scope=col>clonotype_id</th><th scope=col>bc1_well</th><th scope=col>bc2_well</th><th scope=col>bc3_well</th><th scope=col>bc1_wind</th><th scope=col>bc2_wind</th><th scope=col>bc3_wind</th></tr>\n",
       "\t<tr><th></th><th scope=col>&lt;chr&gt;</th><th scope=col>&lt;chr&gt;</th><th scope=col>&lt;lgl&gt;</th><th scope=col>&lt;chr&gt;</th><th scope=col>&lt;chr&gt;</th><th scope=col>&lt;chr&gt;</th><th scope=col>&lt;dbl&gt;</th><th scope=col>&lt;dbl&gt;</th><th scope=col>&lt;chr&gt;</th><th scope=col>&lt;chr&gt;</th><th scope=col>⋯</th><th scope=col>&lt;dbl&gt;</th><th scope=col>&lt;dbl&gt;</th><th scope=col>&lt;int&gt;</th><th scope=col>&lt;chr&gt;</th><th scope=col>&lt;chr&gt;</th><th scope=col>&lt;chr&gt;</th><th scope=col>&lt;chr&gt;</th><th scope=col>&lt;int&gt;</th><th scope=col>&lt;int&gt;</th><th scope=col>&lt;int&gt;</th></tr>\n",
       "</thead>\n",
       "<tbody>\n",
       "\t<tr><th scope=row>1</th><td>16_51_53__s13</td><td>TRAV12-3</td><td>NA</td><td>TRAJ20</td><td>TRAC</td><td>CATQGSNDYKLSF   </td><td>  64</td><td> 1</td><td>TRBV14  </td><td>TRBD2</td><td>⋯</td><td>NA</td><td>NA</td><td>0</td><td>clonotype_125</td><td>B4</td><td>E3 </td><td>E5</td><td>16</td><td>51</td><td>53</td></tr>\n",
       "\t<tr><th scope=row>2</th><td>54_89_53__s6 </td><td>TRAV19  </td><td>NA</td><td>TRAJ22</td><td>TRAC</td><td>CALSEATSGSARQLTF</td><td> 577</td><td>11</td><td>TRBV6-6 </td><td>NA   </td><td>⋯</td><td>19</td><td> 1</td><td>0</td><td>clonotype_3  </td><td>E6</td><td>H5 </td><td>E5</td><td>54</td><td>89</td><td>53</td></tr>\n",
       "\t<tr><th scope=row>3</th><td>41_86_50__s13</td><td>TRAV9-2 </td><td>NA</td><td>TRAJ49</td><td>TRAC</td><td>CALSHTGNQFYF    </td><td> 281</td><td> 3</td><td>TRBV29-1</td><td>TRBD1</td><td>⋯</td><td>NA</td><td>NA</td><td>0</td><td>clonotype_12 </td><td>D5</td><td>H2 </td><td>E2</td><td>41</td><td>86</td><td>50</td></tr>\n",
       "\t<tr><th scope=row>4</th><td>88_47_91__s14</td><td>NA      </td><td>NA</td><td>NA    </td><td>NA  </td><td>NA              </td><td>  NA</td><td>NA</td><td>TRBV5-1 </td><td>NA   </td><td>⋯</td><td>NA</td><td>NA</td><td>0</td><td>NA           </td><td>H4</td><td>D11</td><td>H7</td><td>88</td><td>47</td><td>91</td></tr>\n",
       "\t<tr><th scope=row>5</th><td>41_01_53__s11</td><td>TRAV16  </td><td>NA</td><td>TRAJ17</td><td>TRAC</td><td>CAIKAAGNKLTF    </td><td>1078</td><td>15</td><td>TRBV29-1</td><td>TRBD1</td><td>⋯</td><td>NA</td><td>NA</td><td>0</td><td>clonotype_5  </td><td>D5</td><td>A1 </td><td>E5</td><td>41</td><td> 1</td><td>53</td></tr>\n",
       "\t<tr><th scope=row>6</th><td>18_89_32__s14</td><td>TRAV19  </td><td>NA</td><td>TRAJ22</td><td>TRAC</td><td>CALSEATSGSARQLTF</td><td>  79</td><td> 1</td><td>TRBV6-6 </td><td>NA   </td><td>⋯</td><td>NA</td><td>NA</td><td>0</td><td>clonotype_3  </td><td>B6</td><td>H5 </td><td>C8</td><td>18</td><td>89</td><td>32</td></tr>\n",
       "</tbody>\n",
       "</table>\n"
      ],
      "text/latex": [
       "A data.frame: 6 × 37\n",
       "\\begin{tabular}{r|lllllllllllllllllllll}\n",
       "  & Barcode & TRA\\_V & TRA\\_D & TRA\\_J & TRA\\_C & TRA\\_cdr3\\_aa & TRA\\_read\\_count & TRA\\_transcript\\_count & TRB\\_V & TRB\\_D & ⋯ & secondary\\_TRB\\_read\\_count & secondary\\_TRB\\_transcript\\_count & isMultiplet & clonotype\\_id & bc1\\_well & bc2\\_well & bc3\\_well & bc1\\_wind & bc2\\_wind & bc3\\_wind\\\\\n",
       "  & <chr> & <chr> & <lgl> & <chr> & <chr> & <chr> & <dbl> & <dbl> & <chr> & <chr> & ⋯ & <dbl> & <dbl> & <int> & <chr> & <chr> & <chr> & <chr> & <int> & <int> & <int>\\\\\n",
       "\\hline\n",
       "\t1 & 16\\_51\\_53\\_\\_s13 & TRAV12-3 & NA & TRAJ20 & TRAC & CATQGSNDYKLSF    &   64 &  1 & TRBV14   & TRBD2 & ⋯ & NA & NA & 0 & clonotype\\_125 & B4 & E3  & E5 & 16 & 51 & 53\\\\\n",
       "\t2 & 54\\_89\\_53\\_\\_s6  & TRAV19   & NA & TRAJ22 & TRAC & CALSEATSGSARQLTF &  577 & 11 & TRBV6-6  & NA    & ⋯ & 19 &  1 & 0 & clonotype\\_3   & E6 & H5  & E5 & 54 & 89 & 53\\\\\n",
       "\t3 & 41\\_86\\_50\\_\\_s13 & TRAV9-2  & NA & TRAJ49 & TRAC & CALSHTGNQFYF     &  281 &  3 & TRBV29-1 & TRBD1 & ⋯ & NA & NA & 0 & clonotype\\_12  & D5 & H2  & E2 & 41 & 86 & 50\\\\\n",
       "\t4 & 88\\_47\\_91\\_\\_s14 & NA       & NA & NA     & NA   & NA               &   NA & NA & TRBV5-1  & NA    & ⋯ & NA & NA & 0 & NA            & H4 & D11 & H7 & 88 & 47 & 91\\\\\n",
       "\t5 & 41\\_01\\_53\\_\\_s11 & TRAV16   & NA & TRAJ17 & TRAC & CAIKAAGNKLTF     & 1078 & 15 & TRBV29-1 & TRBD1 & ⋯ & NA & NA & 0 & clonotype\\_5   & D5 & A1  & E5 & 41 &  1 & 53\\\\\n",
       "\t6 & 18\\_89\\_32\\_\\_s14 & TRAV19   & NA & TRAJ22 & TRAC & CALSEATSGSARQLTF &   79 &  1 & TRBV6-6  & NA    & ⋯ & NA & NA & 0 & clonotype\\_3   & B6 & H5  & C8 & 18 & 89 & 32\\\\\n",
       "\\end{tabular}\n"
      ],
      "text/markdown": [
       "\n",
       "A data.frame: 6 × 37\n",
       "\n",
       "| <!--/--> | Barcode &lt;chr&gt; | TRA_V &lt;chr&gt; | TRA_D &lt;lgl&gt; | TRA_J &lt;chr&gt; | TRA_C &lt;chr&gt; | TRA_cdr3_aa &lt;chr&gt; | TRA_read_count &lt;dbl&gt; | TRA_transcript_count &lt;dbl&gt; | TRB_V &lt;chr&gt; | TRB_D &lt;chr&gt; | ⋯ ⋯ | secondary_TRB_read_count &lt;dbl&gt; | secondary_TRB_transcript_count &lt;dbl&gt; | isMultiplet &lt;int&gt; | clonotype_id &lt;chr&gt; | bc1_well &lt;chr&gt; | bc2_well &lt;chr&gt; | bc3_well &lt;chr&gt; | bc1_wind &lt;int&gt; | bc2_wind &lt;int&gt; | bc3_wind &lt;int&gt; |\n",
       "|---|---|---|---|---|---|---|---|---|---|---|---|---|---|---|---|---|---|---|---|---|---|\n",
       "| 1 | 16_51_53__s13 | TRAV12-3 | NA | TRAJ20 | TRAC | CATQGSNDYKLSF    |   64 |  1 | TRBV14   | TRBD2 | ⋯ | NA | NA | 0 | clonotype_125 | B4 | E3  | E5 | 16 | 51 | 53 |\n",
       "| 2 | 54_89_53__s6  | TRAV19   | NA | TRAJ22 | TRAC | CALSEATSGSARQLTF |  577 | 11 | TRBV6-6  | NA    | ⋯ | 19 |  1 | 0 | clonotype_3   | E6 | H5  | E5 | 54 | 89 | 53 |\n",
       "| 3 | 41_86_50__s13 | TRAV9-2  | NA | TRAJ49 | TRAC | CALSHTGNQFYF     |  281 |  3 | TRBV29-1 | TRBD1 | ⋯ | NA | NA | 0 | clonotype_12  | D5 | H2  | E2 | 41 | 86 | 50 |\n",
       "| 4 | 88_47_91__s14 | NA       | NA | NA     | NA   | NA               |   NA | NA | TRBV5-1  | NA    | ⋯ | NA | NA | 0 | NA            | H4 | D11 | H7 | 88 | 47 | 91 |\n",
       "| 5 | 41_01_53__s11 | TRAV16   | NA | TRAJ17 | TRAC | CAIKAAGNKLTF     | 1078 | 15 | TRBV29-1 | TRBD1 | ⋯ | NA | NA | 0 | clonotype_5   | D5 | A1  | E5 | 41 |  1 | 53 |\n",
       "| 6 | 18_89_32__s14 | TRAV19   | NA | TRAJ22 | TRAC | CALSEATSGSARQLTF |   79 |  1 | TRBV6-6  | NA    | ⋯ | NA | NA | 0 | clonotype_3   | B6 | H5  | C8 | 18 | 89 | 32 |\n",
       "\n"
      ],
      "text/plain": [
       "  Barcode       TRA_V    TRA_D TRA_J  TRA_C TRA_cdr3_aa      TRA_read_count\n",
       "1 16_51_53__s13 TRAV12-3 NA    TRAJ20 TRAC  CATQGSNDYKLSF      64          \n",
       "2 54_89_53__s6  TRAV19   NA    TRAJ22 TRAC  CALSEATSGSARQLTF  577          \n",
       "3 41_86_50__s13 TRAV9-2  NA    TRAJ49 TRAC  CALSHTGNQFYF      281          \n",
       "4 88_47_91__s14 NA       NA    NA     NA    NA                 NA          \n",
       "5 41_01_53__s11 TRAV16   NA    TRAJ17 TRAC  CAIKAAGNKLTF     1078          \n",
       "6 18_89_32__s14 TRAV19   NA    TRAJ22 TRAC  CALSEATSGSARQLTF   79          \n",
       "  TRA_transcript_count TRB_V    TRB_D ⋯ secondary_TRB_read_count\n",
       "1  1                   TRBV14   TRBD2 ⋯ NA                      \n",
       "2 11                   TRBV6-6  NA    ⋯ 19                      \n",
       "3  3                   TRBV29-1 TRBD1 ⋯ NA                      \n",
       "4 NA                   TRBV5-1  NA    ⋯ NA                      \n",
       "5 15                   TRBV29-1 TRBD1 ⋯ NA                      \n",
       "6  1                   TRBV6-6  NA    ⋯ NA                      \n",
       "  secondary_TRB_transcript_count isMultiplet clonotype_id  bc1_well bc2_well\n",
       "1 NA                             0           clonotype_125 B4       E3      \n",
       "2  1                             0           clonotype_3   E6       H5      \n",
       "3 NA                             0           clonotype_12  D5       H2      \n",
       "4 NA                             0           NA            H4       D11     \n",
       "5 NA                             0           clonotype_5   D5       A1      \n",
       "6 NA                             0           clonotype_3   B6       H5      \n",
       "  bc3_well bc1_wind bc2_wind bc3_wind\n",
       "1 E5       16       51       53      \n",
       "2 E5       54       89       53      \n",
       "3 E2       41       86       50      \n",
       "4 H7       88       47       91      \n",
       "5 E5       41        1       53      \n",
       "6 C8       18       89       32      "
      ]
     },
     "metadata": {},
     "output_type": "display_data"
    }
   ],
   "source": [
    "print(dim(parseTCR))\n",
    "head(parseTCR)"
   ]
  }
 ],
 "metadata": {
  "kernelspec": {
   "display_name": "R 4.4.2",
   "language": "R",
   "name": "ir442"
  },
  "language_info": {
   "codemirror_mode": "r",
   "file_extension": ".r",
   "mimetype": "text/x-r-source",
   "name": "R",
   "pygments_lexer": "r",
   "version": "4.4.2"
  }
 },
 "nbformat": 4,
 "nbformat_minor": 2
}
