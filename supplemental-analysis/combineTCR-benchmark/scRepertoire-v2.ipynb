{
 "cells": [
  {
   "cell_type": "code",
   "execution_count": 22,
   "metadata": {
    "vscode": {
     "languageId": "r"
    }
   },
   "outputs": [],
   "source": [
    "source(\".Rprofile\")\n",
    "library(scRepertoire)\n",
    "library(magrittr)\n",
    "library(bench)\n",
    "library(data.table)\n",
    "source(\"deps.R\")"
   ]
  },
  {
   "cell_type": "code",
   "execution_count": 23,
   "metadata": {
    "vscode": {
     "languageId": "r"
    }
   },
   "outputs": [
    {
     "data": {
      "text/plain": [
       "        Length Class      Mode\n",
       "1000    36     data.frame list\n",
       "3000    36     data.frame list\n",
       "10000   36     data.frame list\n",
       "30000   36     data.frame list\n",
       "100000  36     data.frame list\n",
       "300000  36     data.frame list\n",
       "600000  36     data.frame list\n",
       "1000000 36     data.frame list"
      ]
     },
     "metadata": {},
     "output_type": "display_data"
    }
   ],
   "source": [
    "datasets <- get_datasets()\n",
    "summary(datasets)"
   ]
  },
  {
   "cell_type": "code",
   "execution_count": 24,
   "metadata": {
    "vscode": {
     "languageId": "r"
    }
   },
   "outputs": [],
   "source": [
    "process_dataset <- function(dataset) {\n",
    "    scRepertoire::combineTCR(scRepertoire::loadContigs(dataset, format = \"ParseBio\"))\n",
    "}"
   ]
  },
  {
   "cell_type": "code",
   "execution_count": null,
   "metadata": {
    "vscode": {
     "languageId": "r"
    }
   },
   "outputs": [
    {
     "name": "stderr",
     "output_type": "stream",
     "text": [
      "Warning message:\n",
      "“Some expressions had a GC in every iteration; so filtering is disabled.”\n",
      "Warning message:\n",
      "“Some expressions had a GC in every iteration; so filtering is disabled.”\n",
      "Warning message:\n",
      "“Some expressions had a GC in every iteration; so filtering is disabled.”\n",
      "Warning message:\n",
      "“Some expressions had a GC in every iteration; so filtering is disabled.”\n"
     ]
    },
    {
     "data": {
      "text/html": [
       "<table class=\"dataframe\">\n",
       "<caption>A data.frame: 8 × 18</caption>\n",
       "<thead>\n",
       "\t<tr><th scope=col>dataset_size</th><th scope=col>min</th><th scope=col>median</th><th scope=col>num_iter</th><th scope=col>mem_alloc</th><th scope=col>num_gc</th><th scope=col>gc0_mean</th><th scope=col>gc0_median</th><th scope=col>gc0_min</th><th scope=col>gc0_max</th><th scope=col>gc1_mean</th><th scope=col>gc1_median</th><th scope=col>gc1_min</th><th scope=col>gc1_max</th><th scope=col>gc2_mean</th><th scope=col>gc2_median</th><th scope=col>gc2_min</th><th scope=col>gc2_max</th></tr>\n",
       "\t<tr><th scope=col>&lt;chr&gt;</th><th scope=col>&lt;chr&gt;</th><th scope=col>&lt;chr&gt;</th><th scope=col>&lt;int&gt;</th><th scope=col>&lt;chr&gt;</th><th scope=col>&lt;dbl&gt;</th><th scope=col>&lt;dbl&gt;</th><th scope=col>&lt;dbl&gt;</th><th scope=col>&lt;int&gt;</th><th scope=col>&lt;int&gt;</th><th scope=col>&lt;dbl&gt;</th><th scope=col>&lt;dbl&gt;</th><th scope=col>&lt;int&gt;</th><th scope=col>&lt;int&gt;</th><th scope=col>&lt;dbl&gt;</th><th scope=col>&lt;dbl&gt;</th><th scope=col>&lt;int&gt;</th><th scope=col>&lt;int&gt;</th></tr>\n",
       "</thead>\n",
       "<tbody>\n",
       "\t<tr><td>1000   </td><td>42.3ms</td><td>47.5ms</td><td>11</td><td>8.93MB</td><td> 0</td><td>0</td><td>0</td><td>0</td><td>0</td><td>0</td><td>0</td><td>0</td><td>0</td><td>0</td><td>0</td><td>0</td><td>0</td></tr>\n",
       "\t<tr><td>3000   </td><td>113ms </td><td>118ms </td><td> 5</td><td>26.3MB</td><td> 0</td><td>0</td><td>0</td><td>0</td><td>0</td><td>0</td><td>0</td><td>0</td><td>0</td><td>0</td><td>0</td><td>0</td><td>0</td></tr>\n",
       "\t<tr><td>10000  </td><td>343ms </td><td>371ms </td><td> 2</td><td>87.4MB</td><td> 0</td><td>0</td><td>0</td><td>0</td><td>0</td><td>0</td><td>0</td><td>0</td><td>0</td><td>0</td><td>0</td><td>0</td><td>0</td></tr>\n",
       "\t<tr><td>30000  </td><td>1.19s </td><td>1.19s </td><td> 1</td><td>266MB </td><td> 0</td><td>0</td><td>0</td><td>0</td><td>0</td><td>0</td><td>0</td><td>0</td><td>0</td><td>0</td><td>0</td><td>0</td><td>0</td></tr>\n",
       "\t<tr><td>100000 </td><td>5.15s </td><td>5.15s </td><td> 1</td><td>864MB </td><td> 1</td><td>1</td><td>1</td><td>1</td><td>1</td><td>0</td><td>0</td><td>0</td><td>0</td><td>0</td><td>0</td><td>0</td><td>0</td></tr>\n",
       "\t<tr><td>300000 </td><td>18.7s </td><td>18.7s </td><td> 1</td><td>2.56GB</td><td> 4</td><td>3</td><td>3</td><td>3</td><td>3</td><td>1</td><td>1</td><td>1</td><td>1</td><td>0</td><td>0</td><td>0</td><td>0</td></tr>\n",
       "\t<tr><td>600000 </td><td>41.4s </td><td>41.4s </td><td> 1</td><td>5.13GB</td><td> 8</td><td>4</td><td>4</td><td>4</td><td>4</td><td>3</td><td>3</td><td>3</td><td>3</td><td>1</td><td>1</td><td>1</td><td>1</td></tr>\n",
       "\t<tr><td>1000000</td><td>1.27m </td><td>1.27m </td><td> 1</td><td>8.64GB</td><td>10</td><td>5</td><td>5</td><td>5</td><td>5</td><td>3</td><td>3</td><td>3</td><td>3</td><td>2</td><td>2</td><td>2</td><td>2</td></tr>\n",
       "</tbody>\n",
       "</table>\n"
      ],
      "text/latex": [
       "A data.frame: 8 × 18\n",
       "\\begin{tabular}{llllllllllllllllll}\n",
       " dataset\\_size & min & median & num\\_iter & mem\\_alloc & num\\_gc & gc0\\_mean & gc0\\_median & gc0\\_min & gc0\\_max & gc1\\_mean & gc1\\_median & gc1\\_min & gc1\\_max & gc2\\_mean & gc2\\_median & gc2\\_min & gc2\\_max\\\\\n",
       " <chr> & <chr> & <chr> & <int> & <chr> & <dbl> & <dbl> & <dbl> & <int> & <int> & <dbl> & <dbl> & <int> & <int> & <dbl> & <dbl> & <int> & <int>\\\\\n",
       "\\hline\n",
       "\t 1000    & 42.3ms & 47.5ms & 11 & 8.93MB &  0 & 0 & 0 & 0 & 0 & 0 & 0 & 0 & 0 & 0 & 0 & 0 & 0\\\\\n",
       "\t 3000    & 113ms  & 118ms  &  5 & 26.3MB &  0 & 0 & 0 & 0 & 0 & 0 & 0 & 0 & 0 & 0 & 0 & 0 & 0\\\\\n",
       "\t 10000   & 343ms  & 371ms  &  2 & 87.4MB &  0 & 0 & 0 & 0 & 0 & 0 & 0 & 0 & 0 & 0 & 0 & 0 & 0\\\\\n",
       "\t 30000   & 1.19s  & 1.19s  &  1 & 266MB  &  0 & 0 & 0 & 0 & 0 & 0 & 0 & 0 & 0 & 0 & 0 & 0 & 0\\\\\n",
       "\t 100000  & 5.15s  & 5.15s  &  1 & 864MB  &  1 & 1 & 1 & 1 & 1 & 0 & 0 & 0 & 0 & 0 & 0 & 0 & 0\\\\\n",
       "\t 300000  & 18.7s  & 18.7s  &  1 & 2.56GB &  4 & 3 & 3 & 3 & 3 & 1 & 1 & 1 & 1 & 0 & 0 & 0 & 0\\\\\n",
       "\t 600000  & 41.4s  & 41.4s  &  1 & 5.13GB &  8 & 4 & 4 & 4 & 4 & 3 & 3 & 3 & 3 & 1 & 1 & 1 & 1\\\\\n",
       "\t 1000000 & 1.27m  & 1.27m  &  1 & 8.64GB & 10 & 5 & 5 & 5 & 5 & 3 & 3 & 3 & 3 & 2 & 2 & 2 & 2\\\\\n",
       "\\end{tabular}\n"
      ],
      "text/markdown": [
       "\n",
       "A data.frame: 8 × 18\n",
       "\n",
       "| dataset_size &lt;chr&gt; | min &lt;chr&gt; | median &lt;chr&gt; | num_iter &lt;int&gt; | mem_alloc &lt;chr&gt; | num_gc &lt;dbl&gt; | gc0_mean &lt;dbl&gt; | gc0_median &lt;dbl&gt; | gc0_min &lt;int&gt; | gc0_max &lt;int&gt; | gc1_mean &lt;dbl&gt; | gc1_median &lt;dbl&gt; | gc1_min &lt;int&gt; | gc1_max &lt;int&gt; | gc2_mean &lt;dbl&gt; | gc2_median &lt;dbl&gt; | gc2_min &lt;int&gt; | gc2_max &lt;int&gt; |\n",
       "|---|---|---|---|---|---|---|---|---|---|---|---|---|---|---|---|---|---|\n",
       "| 1000    | 42.3ms | 47.5ms | 11 | 8.93MB |  0 | 0 | 0 | 0 | 0 | 0 | 0 | 0 | 0 | 0 | 0 | 0 | 0 |\n",
       "| 3000    | 113ms  | 118ms  |  5 | 26.3MB |  0 | 0 | 0 | 0 | 0 | 0 | 0 | 0 | 0 | 0 | 0 | 0 | 0 |\n",
       "| 10000   | 343ms  | 371ms  |  2 | 87.4MB |  0 | 0 | 0 | 0 | 0 | 0 | 0 | 0 | 0 | 0 | 0 | 0 | 0 |\n",
       "| 30000   | 1.19s  | 1.19s  |  1 | 266MB  |  0 | 0 | 0 | 0 | 0 | 0 | 0 | 0 | 0 | 0 | 0 | 0 | 0 |\n",
       "| 100000  | 5.15s  | 5.15s  |  1 | 864MB  |  1 | 1 | 1 | 1 | 1 | 0 | 0 | 0 | 0 | 0 | 0 | 0 | 0 |\n",
       "| 300000  | 18.7s  | 18.7s  |  1 | 2.56GB |  4 | 3 | 3 | 3 | 3 | 1 | 1 | 1 | 1 | 0 | 0 | 0 | 0 |\n",
       "| 600000  | 41.4s  | 41.4s  |  1 | 5.13GB |  8 | 4 | 4 | 4 | 4 | 3 | 3 | 3 | 3 | 1 | 1 | 1 | 1 |\n",
       "| 1000000 | 1.27m  | 1.27m  |  1 | 8.64GB | 10 | 5 | 5 | 5 | 5 | 3 | 3 | 3 | 3 | 2 | 2 | 2 | 2 |\n",
       "\n"
      ],
      "text/plain": [
       "  dataset_size min    median num_iter mem_alloc num_gc gc0_mean gc0_median\n",
       "1 1000         42.3ms 47.5ms 11       8.93MB     0     0        0         \n",
       "2 3000         113ms  118ms   5       26.3MB     0     0        0         \n",
       "3 10000        343ms  371ms   2       87.4MB     0     0        0         \n",
       "4 30000        1.19s  1.19s   1       266MB      0     0        0         \n",
       "5 100000       5.15s  5.15s   1       864MB      1     1        1         \n",
       "6 300000       18.7s  18.7s   1       2.56GB     4     3        3         \n",
       "7 600000       41.4s  41.4s   1       5.13GB     8     4        4         \n",
       "8 1000000      1.27m  1.27m   1       8.64GB    10     5        5         \n",
       "  gc0_min gc0_max gc1_mean gc1_median gc1_min gc1_max gc2_mean gc2_median\n",
       "1 0       0       0        0          0       0       0        0         \n",
       "2 0       0       0        0          0       0       0        0         \n",
       "3 0       0       0        0          0       0       0        0         \n",
       "4 0       0       0        0          0       0       0        0         \n",
       "5 1       1       0        0          0       0       0        0         \n",
       "6 3       3       1        1          1       1       0        0         \n",
       "7 4       4       3        3          3       3       1        1         \n",
       "8 5       5       3        3          3       3       2        2         \n",
       "  gc2_min gc2_max\n",
       "1 0       0      \n",
       "2 0       0      \n",
       "3 0       0      \n",
       "4 0       0      \n",
       "5 0       0      \n",
       "6 0       0      \n",
       "7 1       1      \n",
       "8 2       2      "
      ]
     },
     "metadata": {},
     "output_type": "display_data"
    }
   ],
   "source": [
    "benchmark_results <- dplyr::bind_rows(lapply(seq_along(datasets), function(i) {\n",
    "    gc(verbose = FALSE)\n",
    "    dataset <- datasets[[i]]\n",
    "    benchmark_record <- get_bench_record(suppressWarnings(bench::mark(process_dataset(dataset))))\n",
    "    benchmark_record %>%\n",
    "        dplyr::mutate(dataset_size = names(datasets[i])) %>%\n",
    "        dplyr::relocate(dataset_size)\n",
    "}))\n",
    "benchmark_results"
   ]
  },
  {
   "cell_type": "code",
   "execution_count": 79,
   "metadata": {
    "vscode": {
     "languageId": "r"
    }
   },
   "outputs": [],
   "source": [
    "fwrite(benchmark_results, \"results/scRepertoire2.csv\")"
   ]
  },
  {
   "cell_type": "code",
   "execution_count": 86,
   "metadata": {
    "vscode": {
     "languageId": "r"
    }
   },
   "outputs": [],
   "source": [
    "library(profvis)\n",
    "library(htmlwidgets)\n",
    "saveWidget(profvis(scRepertoire::loadContigs(datasets[[\"300000\"]], format = \"ParseBio\")), \"loadContigs.html\", selfcontained = TRUE)\n",
    "\n",
    "x <- scRepertoire::loadContigs(datasets[[\"300000\"]], format=\"ParseBio\")\n",
    "\n",
    "saveWidget(profvis(scRepertoire::combineTCR(x)), \"combineTCR.html\", selfcontained = TRUE)"
   ]
  }
 ],
 "metadata": {
  "kernelspec": {
   "display_name": "R 4.4.2",
   "language": "R",
   "name": "ir442"
  },
  "language_info": {
   "codemirror_mode": "r",
   "file_extension": ".r",
   "mimetype": "text/x-r-source",
   "name": "R",
   "pygments_lexer": "r",
   "version": "4.4.2"
  }
 },
 "nbformat": 4,
 "nbformat_minor": 2
}
