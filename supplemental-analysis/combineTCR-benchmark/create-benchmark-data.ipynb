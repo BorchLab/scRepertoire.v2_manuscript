{
 "cells": [
  {
   "cell_type": "markdown",
   "metadata": {},
   "source": [
    "# R notebook to create 10X formatted data for performance benchmarking"
   ]
  },
  {
   "cell_type": "code",
   "execution_count": 1,
   "metadata": {
    "vscode": {
     "languageId": "r"
    }
   },
   "outputs": [],
   "source": [
    "suppressPackageStartupMessages({\n",
    "\n",
    "library(magrittr)\n",
    "library(data.table)\n",
    "library(dplyr)\n",
    "library(scRepertoire)\n",
    "library(hash)\n",
    "library(purrr)\n",
    "\n",
    "})"
   ]
  },
  {
   "cell_type": "markdown",
   "metadata": {},
   "source": [
    "## Load Example Data\n",
    "\n",
    "We'll be using a rowbinded and boostrapped version of the scRepertoire example raw TCR data to iteratively create larger and larger datasets"
   ]
  },
  {
   "cell_type": "code",
   "execution_count": 10,
   "metadata": {
    "vscode": {
     "languageId": "r"
    }
   },
   "outputs": [
    {
     "name": "stdout",
     "output_type": "stream",
     "text": [
      "[1] 55154    18\n"
     ]
    },
    {
     "data": {
      "text/html": [
       "<table class=\"dataframe\">\n",
       "<caption>A data.table: 6 × 18</caption>\n",
       "<thead>\n",
       "\t<tr><th scope=col>barcode</th><th scope=col>is_cell</th><th scope=col>contig_id</th><th scope=col>high_confidence</th><th scope=col>length</th><th scope=col>chain</th><th scope=col>v_gene</th><th scope=col>d_gene</th><th scope=col>j_gene</th><th scope=col>c_gene</th><th scope=col>full_length</th><th scope=col>productive</th><th scope=col>cdr3</th><th scope=col>cdr3_nt</th><th scope=col>reads</th><th scope=col>umis</th><th scope=col>raw_clonotype_id</th><th scope=col>raw_consensus_id</th></tr>\n",
       "\t<tr><th scope=col>&lt;chr&gt;</th><th scope=col>&lt;chr&gt;</th><th scope=col>&lt;chr&gt;</th><th scope=col>&lt;chr&gt;</th><th scope=col>&lt;int&gt;</th><th scope=col>&lt;chr&gt;</th><th scope=col>&lt;chr&gt;</th><th scope=col>&lt;chr&gt;</th><th scope=col>&lt;chr&gt;</th><th scope=col>&lt;chr&gt;</th><th scope=col>&lt;chr&gt;</th><th scope=col>&lt;chr&gt;</th><th scope=col>&lt;chr&gt;</th><th scope=col>&lt;chr&gt;</th><th scope=col>&lt;int&gt;</th><th scope=col>&lt;int&gt;</th><th scope=col>&lt;chr&gt;</th><th scope=col>&lt;chr&gt;</th></tr>\n",
       "</thead>\n",
       "<tbody>\n",
       "\t<tr><td>P17B_AAACCTGAGTACGACG-1</td><td>True</td><td>AAACCTGAGTACGACG-1_contig_1</td><td>True</td><td>500</td><td>TRA</td><td>TRAV25      </td><td>None</td><td>TRAJ20 </td><td>TRAC </td><td>True</td><td>True</td><td>CGCSNDYKLSF       </td><td>TGTGGGTGTTCTAACGACTACAAGCTCAGCTTT                     </td><td> 8344</td><td> 4</td><td>clonotype123</td><td>clonotype123_consensus_2</td></tr>\n",
       "\t<tr><td>P17B_AAACCTGAGTACGACG-1</td><td>True</td><td>AAACCTGAGTACGACG-1_contig_2</td><td>True</td><td>478</td><td>TRB</td><td>TRBV5-1     </td><td>None</td><td>TRBJ2-7</td><td>TRBC2</td><td>True</td><td>True</td><td>CASSLTDRTYEQYF    </td><td>TGCGCCAGCAGCTTGACCGACAGGACCTACGAGCAGTACTTC            </td><td>65390</td><td>38</td><td>clonotype123</td><td>clonotype123_consensus_1</td></tr>\n",
       "\t<tr><td>P17B_AAACCTGCAACACGCC-1</td><td>True</td><td>AAACCTGCAACACGCC-1_contig_1</td><td>True</td><td>506</td><td>TRA</td><td>TRAV38-2/DV8</td><td>None</td><td>TRAJ52 </td><td>TRAC </td><td>True</td><td>True</td><td>CAYRSAQAGGTSYGKLTF</td><td>TGTGCTTATAGGAGCGCGCAGGCTGGTGGTACTAGCTATGGAAAGCTGACATTT</td><td>18372</td><td> 8</td><td>clonotype124</td><td>clonotype124_consensus_1</td></tr>\n",
       "\t<tr><td>P17B_AAACCTGCAACACGCC-1</td><td>True</td><td>AAACCTGCAACACGCC-1_contig_2</td><td>True</td><td>470</td><td>TRB</td><td>TRBV10-3    </td><td>None</td><td>TRBJ2-2</td><td>TRBC2</td><td>True</td><td>True</td><td>CAISEQGKGELFF     </td><td>TGTGCCATCAGTGAACAGGGGAAAGGGGAGCTGTTTTTT               </td><td>34054</td><td> 9</td><td>clonotype124</td><td>clonotype124_consensus_2</td></tr>\n",
       "\t<tr><td>P17B_AAACCTGCAGGCGATA-1</td><td>True</td><td>AAACCTGCAGGCGATA-1_contig_1</td><td>True</td><td>558</td><td>TRA</td><td>TRAV12-1    </td><td>None</td><td>TRAJ9  </td><td>TRAC </td><td>True</td><td>True</td><td>CVVSDNTGGFKTIF    </td><td>TGTGTGGTCTCCGATAATACTGGAGGCTTCAAAACTATCTTT            </td><td> 5018</td><td> 2</td><td>clonotype1  </td><td>clonotype1_consensus_2  </td></tr>\n",
       "\t<tr><td>P17B_AAACCTGCAGGCGATA-1</td><td>True</td><td>AAACCTGCAGGCGATA-1_contig_2</td><td>True</td><td>505</td><td>TRB</td><td>TRBV9       </td><td>None</td><td>TRBJ2-2</td><td>TRBC2</td><td>True</td><td>True</td><td>CASSVRRERANTGELFF </td><td>TGTGCCAGCAGCGTAAGGAGGGAAAGGGCGAACACCGGGGAGCTGTTTTTT   </td><td>25110</td><td>11</td><td>clonotype1  </td><td>clonotype1_consensus_1  </td></tr>\n",
       "</tbody>\n",
       "</table>\n"
      ],
      "text/latex": [
       "A data.table: 6 × 18\n",
       "\\begin{tabular}{llllllllllllllllll}\n",
       " barcode & is\\_cell & contig\\_id & high\\_confidence & length & chain & v\\_gene & d\\_gene & j\\_gene & c\\_gene & full\\_length & productive & cdr3 & cdr3\\_nt & reads & umis & raw\\_clonotype\\_id & raw\\_consensus\\_id\\\\\n",
       " <chr> & <chr> & <chr> & <chr> & <int> & <chr> & <chr> & <chr> & <chr> & <chr> & <chr> & <chr> & <chr> & <chr> & <int> & <int> & <chr> & <chr>\\\\\n",
       "\\hline\n",
       "\t P17B\\_AAACCTGAGTACGACG-1 & True & AAACCTGAGTACGACG-1\\_contig\\_1 & True & 500 & TRA & TRAV25       & None & TRAJ20  & TRAC  & True & True & CGCSNDYKLSF        & TGTGGGTGTTCTAACGACTACAAGCTCAGCTTT                      &  8344 &  4 & clonotype123 & clonotype123\\_consensus\\_2\\\\\n",
       "\t P17B\\_AAACCTGAGTACGACG-1 & True & AAACCTGAGTACGACG-1\\_contig\\_2 & True & 478 & TRB & TRBV5-1      & None & TRBJ2-7 & TRBC2 & True & True & CASSLTDRTYEQYF     & TGCGCCAGCAGCTTGACCGACAGGACCTACGAGCAGTACTTC             & 65390 & 38 & clonotype123 & clonotype123\\_consensus\\_1\\\\\n",
       "\t P17B\\_AAACCTGCAACACGCC-1 & True & AAACCTGCAACACGCC-1\\_contig\\_1 & True & 506 & TRA & TRAV38-2/DV8 & None & TRAJ52  & TRAC  & True & True & CAYRSAQAGGTSYGKLTF & TGTGCTTATAGGAGCGCGCAGGCTGGTGGTACTAGCTATGGAAAGCTGACATTT & 18372 &  8 & clonotype124 & clonotype124\\_consensus\\_1\\\\\n",
       "\t P17B\\_AAACCTGCAACACGCC-1 & True & AAACCTGCAACACGCC-1\\_contig\\_2 & True & 470 & TRB & TRBV10-3     & None & TRBJ2-2 & TRBC2 & True & True & CAISEQGKGELFF      & TGTGCCATCAGTGAACAGGGGAAAGGGGAGCTGTTTTTT                & 34054 &  9 & clonotype124 & clonotype124\\_consensus\\_2\\\\\n",
       "\t P17B\\_AAACCTGCAGGCGATA-1 & True & AAACCTGCAGGCGATA-1\\_contig\\_1 & True & 558 & TRA & TRAV12-1     & None & TRAJ9   & TRAC  & True & True & CVVSDNTGGFKTIF     & TGTGTGGTCTCCGATAATACTGGAGGCTTCAAAACTATCTTT             &  5018 &  2 & clonotype1   & clonotype1\\_consensus\\_2  \\\\\n",
       "\t P17B\\_AAACCTGCAGGCGATA-1 & True & AAACCTGCAGGCGATA-1\\_contig\\_2 & True & 505 & TRB & TRBV9        & None & TRBJ2-2 & TRBC2 & True & True & CASSVRRERANTGELFF  & TGTGCCAGCAGCGTAAGGAGGGAAAGGGCGAACACCGGGGAGCTGTTTTTT    & 25110 & 11 & clonotype1   & clonotype1\\_consensus\\_1  \\\\\n",
       "\\end{tabular}\n"
      ],
      "text/markdown": [
       "\n",
       "A data.table: 6 × 18\n",
       "\n",
       "| barcode &lt;chr&gt; | is_cell &lt;chr&gt; | contig_id &lt;chr&gt; | high_confidence &lt;chr&gt; | length &lt;int&gt; | chain &lt;chr&gt; | v_gene &lt;chr&gt; | d_gene &lt;chr&gt; | j_gene &lt;chr&gt; | c_gene &lt;chr&gt; | full_length &lt;chr&gt; | productive &lt;chr&gt; | cdr3 &lt;chr&gt; | cdr3_nt &lt;chr&gt; | reads &lt;int&gt; | umis &lt;int&gt; | raw_clonotype_id &lt;chr&gt; | raw_consensus_id &lt;chr&gt; |\n",
       "|---|---|---|---|---|---|---|---|---|---|---|---|---|---|---|---|---|---|\n",
       "| P17B_AAACCTGAGTACGACG-1 | True | AAACCTGAGTACGACG-1_contig_1 | True | 500 | TRA | TRAV25       | None | TRAJ20  | TRAC  | True | True | CGCSNDYKLSF        | TGTGGGTGTTCTAACGACTACAAGCTCAGCTTT                      |  8344 |  4 | clonotype123 | clonotype123_consensus_2 |\n",
       "| P17B_AAACCTGAGTACGACG-1 | True | AAACCTGAGTACGACG-1_contig_2 | True | 478 | TRB | TRBV5-1      | None | TRBJ2-7 | TRBC2 | True | True | CASSLTDRTYEQYF     | TGCGCCAGCAGCTTGACCGACAGGACCTACGAGCAGTACTTC             | 65390 | 38 | clonotype123 | clonotype123_consensus_1 |\n",
       "| P17B_AAACCTGCAACACGCC-1 | True | AAACCTGCAACACGCC-1_contig_1 | True | 506 | TRA | TRAV38-2/DV8 | None | TRAJ52  | TRAC  | True | True | CAYRSAQAGGTSYGKLTF | TGTGCTTATAGGAGCGCGCAGGCTGGTGGTACTAGCTATGGAAAGCTGACATTT | 18372 |  8 | clonotype124 | clonotype124_consensus_1 |\n",
       "| P17B_AAACCTGCAACACGCC-1 | True | AAACCTGCAACACGCC-1_contig_2 | True | 470 | TRB | TRBV10-3     | None | TRBJ2-2 | TRBC2 | True | True | CAISEQGKGELFF      | TGTGCCATCAGTGAACAGGGGAAAGGGGAGCTGTTTTTT                | 34054 |  9 | clonotype124 | clonotype124_consensus_2 |\n",
       "| P17B_AAACCTGCAGGCGATA-1 | True | AAACCTGCAGGCGATA-1_contig_1 | True | 558 | TRA | TRAV12-1     | None | TRAJ9   | TRAC  | True | True | CVVSDNTGGFKTIF     | TGTGTGGTCTCCGATAATACTGGAGGCTTCAAAACTATCTTT             |  5018 |  2 | clonotype1   | clonotype1_consensus_2   |\n",
       "| P17B_AAACCTGCAGGCGATA-1 | True | AAACCTGCAGGCGATA-1_contig_2 | True | 505 | TRB | TRBV9        | None | TRBJ2-2 | TRBC2 | True | True | CASSVRRERANTGELFF  | TGTGCCAGCAGCGTAAGGAGGGAAAGGGCGAACACCGGGGAGCTGTTTTTT    | 25110 | 11 | clonotype1   | clonotype1_consensus_1   |\n",
       "\n"
      ],
      "text/plain": [
       "  barcode                 is_cell contig_id                   high_confidence\n",
       "1 P17B_AAACCTGAGTACGACG-1 True    AAACCTGAGTACGACG-1_contig_1 True           \n",
       "2 P17B_AAACCTGAGTACGACG-1 True    AAACCTGAGTACGACG-1_contig_2 True           \n",
       "3 P17B_AAACCTGCAACACGCC-1 True    AAACCTGCAACACGCC-1_contig_1 True           \n",
       "4 P17B_AAACCTGCAACACGCC-1 True    AAACCTGCAACACGCC-1_contig_2 True           \n",
       "5 P17B_AAACCTGCAGGCGATA-1 True    AAACCTGCAGGCGATA-1_contig_1 True           \n",
       "6 P17B_AAACCTGCAGGCGATA-1 True    AAACCTGCAGGCGATA-1_contig_2 True           \n",
       "  length chain v_gene       d_gene j_gene  c_gene full_length productive\n",
       "1 500    TRA   TRAV25       None   TRAJ20  TRAC   True        True      \n",
       "2 478    TRB   TRBV5-1      None   TRBJ2-7 TRBC2  True        True      \n",
       "3 506    TRA   TRAV38-2/DV8 None   TRAJ52  TRAC   True        True      \n",
       "4 470    TRB   TRBV10-3     None   TRBJ2-2 TRBC2  True        True      \n",
       "5 558    TRA   TRAV12-1     None   TRAJ9   TRAC   True        True      \n",
       "6 505    TRB   TRBV9        None   TRBJ2-2 TRBC2  True        True      \n",
       "  cdr3               cdr3_nt                                               \n",
       "1 CGCSNDYKLSF        TGTGGGTGTTCTAACGACTACAAGCTCAGCTTT                     \n",
       "2 CASSLTDRTYEQYF     TGCGCCAGCAGCTTGACCGACAGGACCTACGAGCAGTACTTC            \n",
       "3 CAYRSAQAGGTSYGKLTF TGTGCTTATAGGAGCGCGCAGGCTGGTGGTACTAGCTATGGAAAGCTGACATTT\n",
       "4 CAISEQGKGELFF      TGTGCCATCAGTGAACAGGGGAAAGGGGAGCTGTTTTTT               \n",
       "5 CVVSDNTGGFKTIF     TGTGTGGTCTCCGATAATACTGGAGGCTTCAAAACTATCTTT            \n",
       "6 CASSVRRERANTGELFF  TGTGCCAGCAGCGTAAGGAGGGAAAGGGCGAACACCGGGGAGCTGTTTTTT   \n",
       "  reads umis raw_clonotype_id raw_consensus_id        \n",
       "1  8344  4   clonotype123     clonotype123_consensus_2\n",
       "2 65390 38   clonotype123     clonotype123_consensus_1\n",
       "3 18372  8   clonotype124     clonotype124_consensus_1\n",
       "4 34054  9   clonotype124     clonotype124_consensus_2\n",
       "5  5018  2   clonotype1       clonotype1_consensus_2  \n",
       "6 25110 11   clonotype1       clonotype1_consensus_1  "
      ]
     },
     "metadata": {},
     "output_type": "display_data"
    }
   ],
   "source": [
    "raw_10x_data <- get(data(\"contig_list\", package = \"scRepertoire\")) %>%\n",
    "    purrr::imap(~ {\n",
    "        .x$barcode <- paste0(.y, \"_\", .x$barcode)\n",
    "        .x\n",
    "    }) %>%\n",
    "    dplyr::bind_rows() %>%\n",
    "    as.data.table()\n",
    "print(dim(raw_10x_data))\n",
    "head(raw_10x_data)"
   ]
  },
  {
   "cell_type": "markdown",
   "metadata": {},
   "source": [
    "## Save uniformly sampled subsets of the dataset in 10X format"
   ]
  },
  {
   "cell_type": "code",
   "execution_count": 15,
   "metadata": {
    "vscode": {
     "languageId": "r"
    }
   },
   "outputs": [],
   "source": [
    "bootstrap_tcr_data <- function(raw_10x_data, n_barcodes, seed = n_barcodes, barcode_col = \"barcode\") {\n",
    "  set.seed(seed)\n",
    "  unique_bcs <- unique(raw_10x_data[[barcode_col]])\n",
    "  n_unique <- length(unique_bcs)\n",
    "  \n",
    "  # If n_barcodes <= number of unique barcodes, simple sampling without replacement\n",
    "  if (n_barcodes <= n_unique) {\n",
    "    sampled_bcs <- sample(unique_bcs, size = n_barcodes, replace = FALSE)\n",
    "    sampled_dt <- data.table(temp_join_col = sampled_bcs)\n",
    "    join_on_expr <- setNames(\"temp_join_col\", barcode_col)\n",
    "    return(raw_10x_data[sampled_dt, on = join_on_expr])\n",
    "  }\n",
    "  \n",
    "  # For larger samples, we'll create a more efficient approach\n",
    "  # First, get indices of rows matching each unique barcode\n",
    "  all_unique_data <- raw_10x_data[raw_10x_data[[barcode_col]] %in% unique_bcs]\n",
    "  \n",
    "  # Calculate how many complete sets and remainder\n",
    "  n_complete_sets <- n_barcodes %/% n_unique\n",
    "  remainder <- n_barcodes %% n_unique\n",
    "  \n",
    "  # Create result directly\n",
    "  if (remainder == 0) {\n",
    "    # Just full repetitions\n",
    "    result <- all_unique_data[rep(seq_len(.N), times = n_complete_sets)]\n",
    "  } else {\n",
    "    # Full repetitions plus remainder\n",
    "    remainder_indices <- sample(seq_len(nrow(all_unique_data)), remainder)\n",
    "    result <- all_unique_data[c(rep(seq_len(.N), times = n_complete_sets), remainder_indices)]\n",
    "  }\n",
    "  \n",
    "  # Add set indices for making barcodes unique\n",
    "  result[, set_index := c(rep(1:n_complete_sets, each = nrow(all_unique_data)), \n",
    "                          rep(n_complete_sets + 1, remainder))]\n",
    "  \n",
    "  # Update the barcode column to ensure uniqueness\n",
    "  result[, (barcode_col) := paste0(get(barcode_col), \"_\", set_index)]\n",
    "  result[, set_index := NULL]  # Remove the temporary column\n",
    "  \n",
    "  return(result)\n",
    "}"
   ]
  },
  {
   "cell_type": "code",
   "execution_count": null,
   "metadata": {
    "vscode": {
     "languageId": "r"
    }
   },
   "outputs": [
    {
     "name": "stderr",
     "output_type": "stream",
     "text": [
      "saved dataset with cellcount = 1000, nrow = 2088\n",
      "\n",
      "saved dataset with cellcount = 3000, nrow = 6080\n",
      "\n",
      "saved dataset with cellcount = 6000, nrow = 12194\n",
      "\n",
      "saved dataset with cellcount = 10000, nrow = 20237\n",
      "\n",
      "saved dataset with cellcount = 30000, nrow = 57968\n",
      "\n",
      "saved dataset with cellcount = 60000, nrow = 115936\n",
      "\n",
      "saved dataset with cellcount = 100000, nrow = 183904\n",
      "\n",
      "saved dataset with cellcount = 300000, nrow = 607648\n",
      "\n",
      "saved dataset with cellcount = 600000, nrow = 1215296\n",
      "\n",
      "saved dataset with cellcount = 1000000, nrow = 2006848\n",
      "\n"
     ]
    }
   ],
   "source": [
    "sizes_to_benchmark <- c(\n",
    "    1e3, 3e3, 6e3, 1e4, 3e4, 6e4, 1e5, 3e5, 6e5, 1e6\n",
    ")\n",
    "\n",
    "for (size in as.integer(sizes_to_benchmark)) {\n",
    "\n",
    "    target_dir <- paste0(\"datasets/\", size, \"/\")\n",
    "    dir.create(target_dir, recursive = TRUE, showWarnings = FALSE)\n",
    "\n",
    "    benchmark_data <- bootstrap_tcr_data(raw_10x_data, size)\n",
    "    data.table::fwrite(\n",
    "        benchmark_data,\n",
    "        file = paste0(target_dir, \"filtered_contig_annotation.csv\")\n",
    "    )\n",
    "    message(\"saved dataset with cellcount = \", size, \", nrow = \", nrow(benchmark_data))\n",
    "}"
   ]
  }
 ],
 "metadata": {
  "kernelspec": {
   "display_name": "R 4.4.2",
   "language": "R",
   "name": "ir442"
  },
  "language_info": {
   "codemirror_mode": "r",
   "file_extension": ".r",
   "mimetype": "text/x-r-source",
   "name": "R",
   "pygments_lexer": "r",
   "version": "4.4.2"
  }
 },
 "nbformat": 4,
 "nbformat_minor": 2
}
