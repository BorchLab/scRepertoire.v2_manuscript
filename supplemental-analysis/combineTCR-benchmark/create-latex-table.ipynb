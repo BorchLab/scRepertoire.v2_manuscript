{
 "cells": [
  {
   "cell_type": "code",
   "execution_count": null,
   "id": "49e7d724",
   "metadata": {
    "vscode": {
     "languageId": "r"
    }
   },
   "outputs": [
    {
     "data": {
      "text/html": [
       "<table class=\"dataframe\">\n",
       "<caption>A data.frame: 6 × 23</caption>\n",
       "<thead>\n",
       "\t<tr><th></th><th scope=col>tool</th><th scope=col>dataset_size</th><th scope=col>min</th><th scope=col>median</th><th scope=col>mean</th><th scope=col>max</th><th scope=col>sd</th><th scope=col>ci95</th><th scope=col>mem_alloc</th><th scope=col>peak_mem_alloc</th><th scope=col>⋯</th><th scope=col>gc0_min</th><th scope=col>gc0_max</th><th scope=col>gc1_mean</th><th scope=col>gc1_median</th><th scope=col>gc1_min</th><th scope=col>gc1_max</th><th scope=col>gc2_mean</th><th scope=col>gc2_median</th><th scope=col>gc2_min</th><th scope=col>gc2_max</th></tr>\n",
       "\t<tr><th></th><th scope=col>&lt;chr&gt;</th><th scope=col>&lt;int&gt;</th><th scope=col>&lt;chr&gt;</th><th scope=col>&lt;chr&gt;</th><th scope=col>&lt;chr&gt;</th><th scope=col>&lt;chr&gt;</th><th scope=col>&lt;chr&gt;</th><th scope=col>&lt;chr&gt;</th><th scope=col>&lt;chr&gt;</th><th scope=col>&lt;chr&gt;</th><th scope=col>⋯</th><th scope=col>&lt;int&gt;</th><th scope=col>&lt;int&gt;</th><th scope=col>&lt;dbl&gt;</th><th scope=col>&lt;dbl&gt;</th><th scope=col>&lt;int&gt;</th><th scope=col>&lt;int&gt;</th><th scope=col>&lt;dbl&gt;</th><th scope=col>&lt;dbl&gt;</th><th scope=col>&lt;int&gt;</th><th scope=col>&lt;int&gt;</th></tr>\n",
       "</thead>\n",
       "<tbody>\n",
       "\t<tr><th scope=row>1</th><td>dandelion</td><td> 1000</td><td>345ms</td><td>353ms</td><td>361ms</td><td>426ms</td><td>23.1ms</td><td>16.5ms</td><td>4.71MB</td><td>1.08MB</td><td>⋯</td><td>NA</td><td>NA</td><td>NA</td><td>NA</td><td>NA</td><td>NA</td><td>NA</td><td>NA</td><td>NA</td><td>NA</td></tr>\n",
       "\t<tr><th scope=row>2</th><td>dandelion</td><td> 3000</td><td>930ms</td><td>1.01s</td><td>1.01s</td><td>1.06s</td><td>31.9ms</td><td>22.8ms</td><td>12.4MB</td><td>3.18MB</td><td>⋯</td><td>NA</td><td>NA</td><td>NA</td><td>NA</td><td>NA</td><td>NA</td><td>NA</td><td>NA</td><td>NA</td><td>NA</td></tr>\n",
       "\t<tr><th scope=row>3</th><td>dandelion</td><td> 6000</td><td>1.81s</td><td>1.85s</td><td>1.93s</td><td>2.36s</td><td>166ms </td><td>119ms </td><td>24.2MB</td><td>6.36MB</td><td>⋯</td><td>NA</td><td>NA</td><td>NA</td><td>NA</td><td>NA</td><td>NA</td><td>NA</td><td>NA</td><td>NA</td><td>NA</td></tr>\n",
       "\t<tr><th scope=row>4</th><td>dandelion</td><td>10000</td><td>3.07s</td><td>3.12s</td><td>3.16s</td><td>3.33s</td><td>85.1ms</td><td>60.9ms</td><td>39.4MB</td><td>10.4MB</td><td>⋯</td><td>NA</td><td>NA</td><td>NA</td><td>NA</td><td>NA</td><td>NA</td><td>NA</td><td>NA</td><td>NA</td><td>NA</td></tr>\n",
       "\t<tr><th scope=row>5</th><td>dandelion</td><td>30000</td><td>8.98s</td><td>9.02s</td><td>9.03s</td><td>9.11s</td><td>44.5ms</td><td>31.9ms</td><td>111MB </td><td>28.7MB</td><td>⋯</td><td>NA</td><td>NA</td><td>NA</td><td>NA</td><td>NA</td><td>NA</td><td>NA</td><td>NA</td><td>NA</td><td>NA</td></tr>\n",
       "\t<tr><th scope=row>6</th><td>dandelion</td><td>60000</td><td>11.3s</td><td>11.7s</td><td>11.7s</td><td>12.2s</td><td>284ms </td><td>203ms </td><td>0B    </td><td>0B    </td><td>⋯</td><td>NA</td><td>NA</td><td>NA</td><td>NA</td><td>NA</td><td>NA</td><td>NA</td><td>NA</td><td>NA</td><td>NA</td></tr>\n",
       "</tbody>\n",
       "</table>\n"
      ],
      "text/latex": [
       "A data.frame: 6 × 23\n",
       "\\begin{tabular}{r|lllllllllllllllllllll}\n",
       "  & tool & dataset\\_size & min & median & mean & max & sd & ci95 & mem\\_alloc & peak\\_mem\\_alloc & ⋯ & gc0\\_min & gc0\\_max & gc1\\_mean & gc1\\_median & gc1\\_min & gc1\\_max & gc2\\_mean & gc2\\_median & gc2\\_min & gc2\\_max\\\\\n",
       "  & <chr> & <int> & <chr> & <chr> & <chr> & <chr> & <chr> & <chr> & <chr> & <chr> & ⋯ & <int> & <int> & <dbl> & <dbl> & <int> & <int> & <dbl> & <dbl> & <int> & <int>\\\\\n",
       "\\hline\n",
       "\t1 & dandelion &  1000 & 345ms & 353ms & 361ms & 426ms & 23.1ms & 16.5ms & 4.71MB & 1.08MB & ⋯ & NA & NA & NA & NA & NA & NA & NA & NA & NA & NA\\\\\n",
       "\t2 & dandelion &  3000 & 930ms & 1.01s & 1.01s & 1.06s & 31.9ms & 22.8ms & 12.4MB & 3.18MB & ⋯ & NA & NA & NA & NA & NA & NA & NA & NA & NA & NA\\\\\n",
       "\t3 & dandelion &  6000 & 1.81s & 1.85s & 1.93s & 2.36s & 166ms  & 119ms  & 24.2MB & 6.36MB & ⋯ & NA & NA & NA & NA & NA & NA & NA & NA & NA & NA\\\\\n",
       "\t4 & dandelion & 10000 & 3.07s & 3.12s & 3.16s & 3.33s & 85.1ms & 60.9ms & 39.4MB & 10.4MB & ⋯ & NA & NA & NA & NA & NA & NA & NA & NA & NA & NA\\\\\n",
       "\t5 & dandelion & 30000 & 8.98s & 9.02s & 9.03s & 9.11s & 44.5ms & 31.9ms & 111MB  & 28.7MB & ⋯ & NA & NA & NA & NA & NA & NA & NA & NA & NA & NA\\\\\n",
       "\t6 & dandelion & 60000 & 11.3s & 11.7s & 11.7s & 12.2s & 284ms  & 203ms  & 0B     & 0B     & ⋯ & NA & NA & NA & NA & NA & NA & NA & NA & NA & NA\\\\\n",
       "\\end{tabular}\n"
      ],
      "text/markdown": [
       "\n",
       "A data.frame: 6 × 23\n",
       "\n",
       "| <!--/--> | tool &lt;chr&gt; | dataset_size &lt;int&gt; | min &lt;chr&gt; | median &lt;chr&gt; | mean &lt;chr&gt; | max &lt;chr&gt; | sd &lt;chr&gt; | ci95 &lt;chr&gt; | mem_alloc &lt;chr&gt; | peak_mem_alloc &lt;chr&gt; | ⋯ ⋯ | gc0_min &lt;int&gt; | gc0_max &lt;int&gt; | gc1_mean &lt;dbl&gt; | gc1_median &lt;dbl&gt; | gc1_min &lt;int&gt; | gc1_max &lt;int&gt; | gc2_mean &lt;dbl&gt; | gc2_median &lt;dbl&gt; | gc2_min &lt;int&gt; | gc2_max &lt;int&gt; |\n",
       "|---|---|---|---|---|---|---|---|---|---|---|---|---|---|---|---|---|---|---|---|---|---|\n",
       "| 1 | dandelion |  1000 | 345ms | 353ms | 361ms | 426ms | 23.1ms | 16.5ms | 4.71MB | 1.08MB | ⋯ | NA | NA | NA | NA | NA | NA | NA | NA | NA | NA |\n",
       "| 2 | dandelion |  3000 | 930ms | 1.01s | 1.01s | 1.06s | 31.9ms | 22.8ms | 12.4MB | 3.18MB | ⋯ | NA | NA | NA | NA | NA | NA | NA | NA | NA | NA |\n",
       "| 3 | dandelion |  6000 | 1.81s | 1.85s | 1.93s | 2.36s | 166ms  | 119ms  | 24.2MB | 6.36MB | ⋯ | NA | NA | NA | NA | NA | NA | NA | NA | NA | NA |\n",
       "| 4 | dandelion | 10000 | 3.07s | 3.12s | 3.16s | 3.33s | 85.1ms | 60.9ms | 39.4MB | 10.4MB | ⋯ | NA | NA | NA | NA | NA | NA | NA | NA | NA | NA |\n",
       "| 5 | dandelion | 30000 | 8.98s | 9.02s | 9.03s | 9.11s | 44.5ms | 31.9ms | 111MB  | 28.7MB | ⋯ | NA | NA | NA | NA | NA | NA | NA | NA | NA | NA |\n",
       "| 6 | dandelion | 60000 | 11.3s | 11.7s | 11.7s | 12.2s | 284ms  | 203ms  | 0B     | 0B     | ⋯ | NA | NA | NA | NA | NA | NA | NA | NA | NA | NA |\n",
       "\n"
      ],
      "text/plain": [
       "  tool      dataset_size min   median mean  max   sd     ci95   mem_alloc\n",
       "1 dandelion  1000        345ms 353ms  361ms 426ms 23.1ms 16.5ms 4.71MB   \n",
       "2 dandelion  3000        930ms 1.01s  1.01s 1.06s 31.9ms 22.8ms 12.4MB   \n",
       "3 dandelion  6000        1.81s 1.85s  1.93s 2.36s 166ms  119ms  24.2MB   \n",
       "4 dandelion 10000        3.07s 3.12s  3.16s 3.33s 85.1ms 60.9ms 39.4MB   \n",
       "5 dandelion 30000        8.98s 9.02s  9.03s 9.11s 44.5ms 31.9ms 111MB    \n",
       "6 dandelion 60000        11.3s 11.7s  11.7s 12.2s 284ms  203ms  0B       \n",
       "  peak_mem_alloc ⋯ gc0_min gc0_max gc1_mean gc1_median gc1_min gc1_max gc2_mean\n",
       "1 1.08MB         ⋯ NA      NA      NA       NA         NA      NA      NA      \n",
       "2 3.18MB         ⋯ NA      NA      NA       NA         NA      NA      NA      \n",
       "3 6.36MB         ⋯ NA      NA      NA       NA         NA      NA      NA      \n",
       "4 10.4MB         ⋯ NA      NA      NA       NA         NA      NA      NA      \n",
       "5 28.7MB         ⋯ NA      NA      NA       NA         NA      NA      NA      \n",
       "6 0B             ⋯ NA      NA      NA       NA         NA      NA      NA      \n",
       "  gc2_median gc2_min gc2_max\n",
       "1 NA         NA      NA     \n",
       "2 NA         NA      NA     \n",
       "3 NA         NA      NA     \n",
       "4 NA         NA      NA     \n",
       "5 NA         NA      NA     \n",
       "6 NA         NA      NA     "
      ]
     },
     "metadata": {},
     "output_type": "display_data"
    }
   ],
   "source": [
    "library(data.table)\n",
    "library(bench)\n",
    "library(purrr)\n",
    "library(tidyverse)\n",
    "\n",
    "files <- list.files(\"results\", pattern = \"\\\\.csv$\", full.names = TRUE)\n",
    "all_data <- lapply(files, function(file) {\n",
    "    fread(file, data.table = FALSE) %>%\n",
    "        mutate(tool = tools::file_path_sans_ext(basename(file)))\n",
    "}) %>%\n",
    "    bind_rows() %>%\n",
    "    relocate(tool)\n",
    "\n",
    "head(all_data)"
   ]
  },
  {
   "cell_type": "code",
   "execution_count": 75,
   "id": "ce17b1f5",
   "metadata": {
    "vscode": {
     "languageId": "r"
    }
   },
   "outputs": [
    {
     "name": "stderr",
     "output_type": "stream",
     "text": [
      "Warning message in dcast(., tool ~ dataset_size, value.var = \"mean\"):\n",
      "“The dcast generic in data.table has been passed a data.frame and will attempt to redirect to the relevant reshape2 method; please note that reshape2 is superseded and is no longer actively developed, and this redirection is now deprecated. Please do this redirection yourself like reshape2::dcast(.). In the next version, this warning will become an error.”\n"
     ]
    },
    {
     "data": {
      "text/html": [
       "<table class=\"dataframe\">\n",
       "<caption>A data.frame: 5 × 11</caption>\n",
       "<thead>\n",
       "\t<tr><th scope=col>tool</th><th scope=col>1000</th><th scope=col>3000</th><th scope=col>6000</th><th scope=col>10000</th><th scope=col>30000</th><th scope=col>60000</th><th scope=col>100000</th><th scope=col>300000</th><th scope=col>600000</th><th scope=col>1000000</th></tr>\n",
       "\t<tr><th scope=col>&lt;chr&gt;</th><th scope=col>&lt;chr&gt;</th><th scope=col>&lt;chr&gt;</th><th scope=col>&lt;chr&gt;</th><th scope=col>&lt;chr&gt;</th><th scope=col>&lt;chr&gt;</th><th scope=col>&lt;chr&gt;</th><th scope=col>&lt;chr&gt;</th><th scope=col>&lt;chr&gt;</th><th scope=col>&lt;chr&gt;</th><th scope=col>&lt;chr&gt;</th></tr>\n",
       "</thead>\n",
       "<tbody>\n",
       "\t<tr><td>dandelion    </td><td>361ms</td><td>1.01s</td><td>1.93s</td><td>3.16s</td><td>9.03s</td><td>11.7s</td><td>15.3s</td><td>28.5s</td><td>51.8s</td><td>1.37m</td></tr>\n",
       "\t<tr><td>immunarch    </td><td>1.23s</td><td>3.03s</td><td>6.06s</td><td>9.64s</td><td>27.4s</td><td>40.4s</td><td>1.18m</td><td>3.28m</td><td>4.11m</td><td>5.98m</td></tr>\n",
       "\t<tr><td>scirpy       </td><td>266ms</td><td>688ms</td><td>1.35s</td><td>2.24s</td><td>6.34s</td><td>13.2s</td><td>21.2s</td><td>1.16m</td><td>2.3m </td><td>3.79m</td></tr>\n",
       "\t<tr><td>scRepertoire1</td><td>1.19s</td><td>2.08s</td><td>6.14s</td><td>9.46s</td><td>56.9s</td><td>5.58m</td><td>NA   </td><td>NA   </td><td>NA   </td><td>NA   </td></tr>\n",
       "\t<tr><td>scRepertoire2</td><td>130ms</td><td>301ms</td><td>622ms</td><td>809ms</td><td>2.41s</td><td>5.06s</td><td>7.94s</td><td>24.8s</td><td>53s  </td><td>1.35m</td></tr>\n",
       "</tbody>\n",
       "</table>\n"
      ],
      "text/latex": [
       "A data.frame: 5 × 11\n",
       "\\begin{tabular}{lllllllllll}\n",
       " tool & 1000 & 3000 & 6000 & 10000 & 30000 & 60000 & 100000 & 300000 & 600000 & 1000000\\\\\n",
       " <chr> & <chr> & <chr> & <chr> & <chr> & <chr> & <chr> & <chr> & <chr> & <chr> & <chr>\\\\\n",
       "\\hline\n",
       "\t dandelion     & 361ms & 1.01s & 1.93s & 3.16s & 9.03s & 11.7s & 15.3s & 28.5s & 51.8s & 1.37m\\\\\n",
       "\t immunarch     & 1.23s & 3.03s & 6.06s & 9.64s & 27.4s & 40.4s & 1.18m & 3.28m & 4.11m & 5.98m\\\\\n",
       "\t scirpy        & 266ms & 688ms & 1.35s & 2.24s & 6.34s & 13.2s & 21.2s & 1.16m & 2.3m  & 3.79m\\\\\n",
       "\t scRepertoire1 & 1.19s & 2.08s & 6.14s & 9.46s & 56.9s & 5.58m & NA    & NA    & NA    & NA   \\\\\n",
       "\t scRepertoire2 & 130ms & 301ms & 622ms & 809ms & 2.41s & 5.06s & 7.94s & 24.8s & 53s   & 1.35m\\\\\n",
       "\\end{tabular}\n"
      ],
      "text/markdown": [
       "\n",
       "A data.frame: 5 × 11\n",
       "\n",
       "| tool &lt;chr&gt; | 1000 &lt;chr&gt; | 3000 &lt;chr&gt; | 6000 &lt;chr&gt; | 10000 &lt;chr&gt; | 30000 &lt;chr&gt; | 60000 &lt;chr&gt; | 100000 &lt;chr&gt; | 300000 &lt;chr&gt; | 600000 &lt;chr&gt; | 1000000 &lt;chr&gt; |\n",
       "|---|---|---|---|---|---|---|---|---|---|---|\n",
       "| dandelion     | 361ms | 1.01s | 1.93s | 3.16s | 9.03s | 11.7s | 15.3s | 28.5s | 51.8s | 1.37m |\n",
       "| immunarch     | 1.23s | 3.03s | 6.06s | 9.64s | 27.4s | 40.4s | 1.18m | 3.28m | 4.11m | 5.98m |\n",
       "| scirpy        | 266ms | 688ms | 1.35s | 2.24s | 6.34s | 13.2s | 21.2s | 1.16m | 2.3m  | 3.79m |\n",
       "| scRepertoire1 | 1.19s | 2.08s | 6.14s | 9.46s | 56.9s | 5.58m | NA    | NA    | NA    | NA    |\n",
       "| scRepertoire2 | 130ms | 301ms | 622ms | 809ms | 2.41s | 5.06s | 7.94s | 24.8s | 53s   | 1.35m |\n",
       "\n"
      ],
      "text/plain": [
       "  tool          1000  3000  6000  10000 30000 60000 100000 300000 600000\n",
       "1 dandelion     361ms 1.01s 1.93s 3.16s 9.03s 11.7s 15.3s  28.5s  51.8s \n",
       "2 immunarch     1.23s 3.03s 6.06s 9.64s 27.4s 40.4s 1.18m  3.28m  4.11m \n",
       "3 scirpy        266ms 688ms 1.35s 2.24s 6.34s 13.2s 21.2s  1.16m  2.3m  \n",
       "4 scRepertoire1 1.19s 2.08s 6.14s 9.46s 56.9s 5.58m NA     NA     NA    \n",
       "5 scRepertoire2 130ms 301ms 622ms 809ms 2.41s 5.06s 7.94s  24.8s  53s   \n",
       "  1000000\n",
       "1 1.37m  \n",
       "2 5.98m  \n",
       "3 3.79m  \n",
       "4 NA     \n",
       "5 1.35m  "
      ]
     },
     "metadata": {},
     "output_type": "display_data"
    }
   ],
   "source": [
    "summarized <- all_data %>%\n",
    "    dcast(tool ~ dataset_size, value.var=\"mean\") #%>%\n",
    "    #mutate(across(where(is.numeric), as.character))\n",
    "summarized"
   ]
  },
  {
   "cell_type": "code",
   "execution_count": 76,
   "id": "2e384499",
   "metadata": {
    "vscode": {
     "languageId": "r"
    }
   },
   "outputs": [
    {
     "name": "stderr",
     "output_type": "stream",
     "text": [
      "Warning message in dcast(., tool ~ dataset_size, value.var = \"ci95\"):\n",
      "“The dcast generic in data.table has been passed a data.frame and will attempt to redirect to the relevant reshape2 method; please note that reshape2 is superseded and is no longer actively developed, and this redirection is now deprecated. Please do this redirection yourself like reshape2::dcast(.). In the next version, this warning will become an error.”\n"
     ]
    },
    {
     "data": {
      "text/html": [
       "<table class=\"dataframe\">\n",
       "<caption>A data.frame: 5 × 11</caption>\n",
       "<thead>\n",
       "\t<tr><th scope=col>tool</th><th scope=col>1000</th><th scope=col>3000</th><th scope=col>6000</th><th scope=col>10000</th><th scope=col>30000</th><th scope=col>60000</th><th scope=col>100000</th><th scope=col>300000</th><th scope=col>600000</th><th scope=col>1000000</th></tr>\n",
       "\t<tr><th scope=col>&lt;chr&gt;</th><th scope=col>&lt;chr&gt;</th><th scope=col>&lt;chr&gt;</th><th scope=col>&lt;chr&gt;</th><th scope=col>&lt;chr&gt;</th><th scope=col>&lt;chr&gt;</th><th scope=col>&lt;chr&gt;</th><th scope=col>&lt;chr&gt;</th><th scope=col>&lt;chr&gt;</th><th scope=col>&lt;chr&gt;</th><th scope=col>&lt;chr&gt;</th></tr>\n",
       "</thead>\n",
       "<tbody>\n",
       "\t<tr><td>dandelion    </td><td>16.5ms  </td><td>22.8ms  </td><td>119ms   </td><td>60.9ms  </td><td>31.9ms  </td><td>203ms   </td><td>764ms   </td><td>478ms   </td><td>1.36s </td><td>1.07s</td></tr>\n",
       "\t<tr><td>immunarch    </td><td>62.2ms  </td><td>104.52ms</td><td>177.7ms </td><td>429.45ms</td><td>1.52s   </td><td>1.54s   </td><td>25.91s  </td><td>1.94m   </td><td>26.53s</td><td>4s   </td></tr>\n",
       "\t<tr><td>scirpy       </td><td>37.4ms  </td><td>13.3ms  </td><td>43.9ms  </td><td>40.8ms  </td><td>96.9ms  </td><td>563ms   </td><td>170ms   </td><td>675ms   </td><td>1.69s </td><td>2.3s </td></tr>\n",
       "\t<tr><td>scRepertoire1</td><td>718.22ms</td><td>74.17ms </td><td>937.88ms</td><td>1.72s   </td><td>3.36s   </td><td>1.63m   </td><td>NA      </td><td>NA      </td><td>NA    </td><td>NA   </td></tr>\n",
       "\t<tr><td>scRepertoire2</td><td>28.14ms </td><td>31.84ms </td><td>449.19ms</td><td>296.17ms</td><td>440.56ms</td><td>356.64ms</td><td>600.98ms</td><td>955.16ms</td><td>5.57s </td><td>2.46s</td></tr>\n",
       "</tbody>\n",
       "</table>\n"
      ],
      "text/latex": [
       "A data.frame: 5 × 11\n",
       "\\begin{tabular}{lllllllllll}\n",
       " tool & 1000 & 3000 & 6000 & 10000 & 30000 & 60000 & 100000 & 300000 & 600000 & 1000000\\\\\n",
       " <chr> & <chr> & <chr> & <chr> & <chr> & <chr> & <chr> & <chr> & <chr> & <chr> & <chr>\\\\\n",
       "\\hline\n",
       "\t dandelion     & 16.5ms   & 22.8ms   & 119ms    & 60.9ms   & 31.9ms   & 203ms    & 764ms    & 478ms    & 1.36s  & 1.07s\\\\\n",
       "\t immunarch     & 62.2ms   & 104.52ms & 177.7ms  & 429.45ms & 1.52s    & 1.54s    & 25.91s   & 1.94m    & 26.53s & 4s   \\\\\n",
       "\t scirpy        & 37.4ms   & 13.3ms   & 43.9ms   & 40.8ms   & 96.9ms   & 563ms    & 170ms    & 675ms    & 1.69s  & 2.3s \\\\\n",
       "\t scRepertoire1 & 718.22ms & 74.17ms  & 937.88ms & 1.72s    & 3.36s    & 1.63m    & NA       & NA       & NA     & NA   \\\\\n",
       "\t scRepertoire2 & 28.14ms  & 31.84ms  & 449.19ms & 296.17ms & 440.56ms & 356.64ms & 600.98ms & 955.16ms & 5.57s  & 2.46s\\\\\n",
       "\\end{tabular}\n"
      ],
      "text/markdown": [
       "\n",
       "A data.frame: 5 × 11\n",
       "\n",
       "| tool &lt;chr&gt; | 1000 &lt;chr&gt; | 3000 &lt;chr&gt; | 6000 &lt;chr&gt; | 10000 &lt;chr&gt; | 30000 &lt;chr&gt; | 60000 &lt;chr&gt; | 100000 &lt;chr&gt; | 300000 &lt;chr&gt; | 600000 &lt;chr&gt; | 1000000 &lt;chr&gt; |\n",
       "|---|---|---|---|---|---|---|---|---|---|---|\n",
       "| dandelion     | 16.5ms   | 22.8ms   | 119ms    | 60.9ms   | 31.9ms   | 203ms    | 764ms    | 478ms    | 1.36s  | 1.07s |\n",
       "| immunarch     | 62.2ms   | 104.52ms | 177.7ms  | 429.45ms | 1.52s    | 1.54s    | 25.91s   | 1.94m    | 26.53s | 4s    |\n",
       "| scirpy        | 37.4ms   | 13.3ms   | 43.9ms   | 40.8ms   | 96.9ms   | 563ms    | 170ms    | 675ms    | 1.69s  | 2.3s  |\n",
       "| scRepertoire1 | 718.22ms | 74.17ms  | 937.88ms | 1.72s    | 3.36s    | 1.63m    | NA       | NA       | NA     | NA    |\n",
       "| scRepertoire2 | 28.14ms  | 31.84ms  | 449.19ms | 296.17ms | 440.56ms | 356.64ms | 600.98ms | 955.16ms | 5.57s  | 2.46s |\n",
       "\n"
      ],
      "text/plain": [
       "  tool          1000     3000     6000     10000    30000    60000    100000  \n",
       "1 dandelion     16.5ms   22.8ms   119ms    60.9ms   31.9ms   203ms    764ms   \n",
       "2 immunarch     62.2ms   104.52ms 177.7ms  429.45ms 1.52s    1.54s    25.91s  \n",
       "3 scirpy        37.4ms   13.3ms   43.9ms   40.8ms   96.9ms   563ms    170ms   \n",
       "4 scRepertoire1 718.22ms 74.17ms  937.88ms 1.72s    3.36s    1.63m    NA      \n",
       "5 scRepertoire2 28.14ms  31.84ms  449.19ms 296.17ms 440.56ms 356.64ms 600.98ms\n",
       "  300000   600000 1000000\n",
       "1 478ms    1.36s  1.07s  \n",
       "2 1.94m    26.53s 4s     \n",
       "3 675ms    1.69s  2.3s   \n",
       "4 NA       NA     NA     \n",
       "5 955.16ms 5.57s  2.46s  "
      ]
     },
     "metadata": {},
     "output_type": "display_data"
    }
   ],
   "source": [
    "ci_df <- all_data %>%\n",
    "    dcast(tool ~ dataset_size, value.var=\"ci95\") %>%\n",
    "    mutate(across(where(is.numeric), as.character))\n",
    "ci_df"
   ]
  },
  {
   "cell_type": "code",
   "execution_count": 86,
   "id": "1381668d",
   "metadata": {
    "vscode": {
     "languageId": "r"
    }
   },
   "outputs": [],
   "source": [
    "merged_df <- summarized\n",
    "merged_df[-1] <- as.data.frame(mapply(function(a, b) paste0(a, \"±\", b), summarized[-1], ci_df[-1], SIMPLIFY = FALSE))\n",
    "merged_df[merged_df == \"NA±NA\"] <- \"-\"\n",
    "desired_order <- c(\"scRepertoire2\", \"dandelion\", \"scirpy\", \"immunarch\", \"scRepertoire1\")\n",
    "merged_df <- merged_df[match(desired_order, merged_df[[1]]), ]\n",
    "fwrite(merged_df, \"result_summary.csv\")"
   ]
  }
 ],
 "metadata": {
  "kernelspec": {
   "display_name": "R 4.4.2",
   "language": "R",
   "name": "ir442"
  },
  "language_info": {
   "codemirror_mode": "r",
   "file_extension": ".r",
   "mimetype": "text/x-r-source",
   "name": "R",
   "pygments_lexer": "r",
   "version": "4.4.2"
  }
 },
 "nbformat": 4,
 "nbformat_minor": 5
}
